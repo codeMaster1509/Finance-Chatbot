{
 "cells": [
  {
   "cell_type": "markdown",
   "id": "a7b6892c",
   "metadata": {},
   "source": [
    "### Importing necessary libraries"
   ]
  },
  {
   "cell_type": "code",
   "execution_count": 1,
   "id": "ef5c6aea",
   "metadata": {},
   "outputs": [],
   "source": [
    "import pandas as pd\n",
    "import numpy as np\n",
    "import json"
   ]
  },
  {
   "cell_type": "markdown",
   "id": "64bd7793",
   "metadata": {},
   "source": [
    "This Function performs the task of reading JSON data, cleaning it by removing specific words and characters, and writing the cleaned data back to a new JSON file."
   ]
  },
  {
   "cell_type": "code",
   "execution_count": 2,
   "id": "5a3bacd6",
   "metadata": {},
   "outputs": [],
   "source": [
    "def remove_special_chars(text):\n",
    "   \n",
    "    text = text.split(\"Disclaimer\")[0]\n",
    "    \n",
    "    word_to_remove = ['Moneycontrol reported','Moneycontrol','The Economic Times has reported','The Economic Times']\n",
    "    for word in word_to_remove:\n",
    "        if word in text:\n",
    "            text = text.replace(word,\" \")\n",
    "\n",
    "    text = text.replace(',','')\n",
    "    text = text.replace('-','')\n",
    "    \n",
    "    allowed_chars = set('abcdefghijklmnopqrstuvwxyz ABCDEFGHIJKLMNOPQRSTUVWXYZ0123456789.()')\n",
    "    return ''.join([' ' if char not in allowed_chars else char for char in text])\n",
    "\n",
    "def update_json_file(filename):\n",
    "  \n",
    "    with open(f\"C:\\\\Users\\\\akshi\\\\data for ie643\\\\news_jsons\\\\{filename}.json\", 'r') as f:\n",
    "        data = json.load(f)\n",
    "\n",
    "    # for each string\n",
    "    for i, item in enumerate(data):\n",
    "        data[i] = remove_special_chars(item)\n",
    "\n",
    "    with open(fr\"C:\\Users\\akshi\\data for ie643\\cleaned_news_jsons\\clean_{filename}.json\", 'w') as f:\n",
    "        json.dump(data, f, indent=4)  \n",
    "\n"
   ]
  },
  {
   "cell_type": "code",
   "execution_count": 3,
   "id": "cb73cc2e",
   "metadata": {},
   "outputs": [],
   "source": [
    "list_of_companies=['reliance-industries','hdfc','ongc','indian-oil-corporation','adani-group',\n",
    "                     'hero-motocorp','asian-paints','eicher-motors','itc','tata-steel',\n",
    "                  'shriram-transport-finance','dr-reddys-laboratories','infosys','sun-pharma','tata-consultancy-services-(tcs)',\n",
    "                      'maruti-suzuki','hcl-technologies','coal-india','lti-mindtree','hdfc-life',\n",
    "                      'bajaj-auto','britannia-industries','hindalco-industries','larsen-and-toubro','tata-consumer-products',\n",
    "                      'wipro','titan','bajaj-finance','jsw-steel','icici-bank',\n",
    "                      'indusind-bank','bharti-airtel','divis-laboratories','sbi-life-insurance','bajaj-finserv',\n",
    "                      'cipla','grasim-industries','hindustan-unilever','mahindra-and-mahindra','tata-motors',\n",
    "                     'apollo-hospitals-enterprises','sbi','kotak-mahindra-bank','power-grid-corporation-of-india','axis-bank',\n",
    "                     'ntpc','tech-mahindra','adani-ports','ultratech-cement','nestle','bharat-petroleum']\n"
   ]
  },
  {
   "cell_type": "code",
   "execution_count": 4,
   "id": "49d9ed8a",
   "metadata": {},
   "outputs": [],
   "source": [
    "for company in list_of_companies:\n",
    "    update_json_file(f\"{company}\")"
   ]
  }
 ],
 "metadata": {
  "kernelspec": {
   "display_name": "GPU",
   "language": "python",
   "name": "python3"
  },
  "language_info": {
   "codemirror_mode": {
    "name": "ipython",
    "version": 3
   },
   "file_extension": ".py",
   "mimetype": "text/x-python",
   "name": "python",
   "nbconvert_exporter": "python",
   "pygments_lexer": "ipython3",
   "version": "3.10.14"
  }
 },
 "nbformat": 4,
 "nbformat_minor": 5
}
